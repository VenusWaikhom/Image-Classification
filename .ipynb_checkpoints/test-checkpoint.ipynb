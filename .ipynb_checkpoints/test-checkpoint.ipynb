{
 "cells": [
  {
   "cell_type": "markdown",
   "metadata": {
    "id": "jQyuLrpk7Vl3"
   },
   "source": [
    "### **Import** **Libraries**\n",
    "\n",
    "\n",
    "---"
   ]
  },
  {
   "cell_type": "code",
   "execution_count": 1,
   "metadata": {
    "executionInfo": {
     "elapsed": 5511,
     "status": "ok",
     "timestamp": 1716611611701,
     "user": {
      "displayName": "Venus Waikhom",
      "userId": "06545940090851381132"
     },
     "user_tz": -330
    },
    "id": "ImTojA-0gxCc"
   },
   "outputs": [
    {
     "name": "stderr",
     "output_type": "stream",
     "text": [
      "C:\\Users\\Jardani\\anaconda3\\envs\\tf\\lib\\site-packages\\requests\\__init__.py:86: RequestsDependencyWarning: Unable to find acceptable character detection dependency (chardet or charset_normalizer).\n",
      "  warnings.warn(\n"
     ]
    }
   ],
   "source": [
    "import os\n",
    "import random\n",
    "import pydot\n",
    "import cv2\n",
    "import pandas as pd\n",
    "import numpy as np\n",
    "import matplotlib as plt\n",
    "import tensorflow as tf\n",
    "from tensorflow.keras.preprocessing.image import ImageDataGenerator\n",
    "from tensorflow.keras.models import Sequential, load_model\n",
    "from tensorflow.keras.layers import Dense, Conv2D, MaxPooling2D, Flatten, GlobalAveragePooling2D, Dropout, InputLayer\n",
    "from tensorflow.keras.optimizers import Adam\n",
    "from tensorflow.keras.callbacks import ModelCheckpoint, EarlyStopping\n",
    "from tensorflow.keras.utils import model_to_dot\n",
    "from sklearn.metrics import confusion_matrix, classification_report\n",
    "import seaborn as sns\n",
    "from sklearn.model_selection import KFold\n",
    "from keras.utils import plot_model\n",
    "from IPython.display import Image"
   ]
  },
  {
   "cell_type": "code",
   "execution_count": 2,
   "metadata": {},
   "outputs": [
    {
     "name": "stdout",
     "output_type": "stream",
     "text": [
      "OS version: nt\n",
      "Random library version: Random variable generators.\n",
      "\n",
      "    bytes\n",
      "    -----\n",
      "           uniform bytes (values between 0 and 255)\n",
      "\n",
      "    integers\n",
      "    --------\n",
      "           uniform within range\n",
      "\n",
      "    sequences\n",
      "    ---------\n",
      "           pick random element\n",
      "           pick random sample\n",
      "           pick weighted random sample\n",
      "           generate random permutation\n",
      "\n",
      "    distributions on the real line:\n",
      "    ------------------------------\n",
      "           uniform\n",
      "           triangular\n",
      "           normal (Gaussian)\n",
      "           lognormal\n",
      "           negative exponential\n",
      "           gamma\n",
      "           beta\n",
      "           pareto\n",
      "           Weibull\n",
      "\n",
      "    distributions on the circle (angles 0 to 2pi)\n",
      "    ---------------------------------------------\n",
      "           circular uniform\n",
      "           von Mises\n",
      "\n",
      "General notes on the underlying Mersenne Twister core generator:\n",
      "\n",
      "* The period is 2**19937-1.\n",
      "* It is one of the most extensively tested generators in existence.\n",
      "* The random() method is implemented in C, executes in a single Python step,\n",
      "  and is, therefore, threadsafe.\n",
      "\n",
      "\n",
      "Pydot version: 2.0.0\n",
      "OpenCV version: 4.9.0\n",
      "Pandas version: 2.2.2\n",
      "NumPy version: 1.26.4\n",
      "Matplotlib version: 3.9.0\n",
      "TensorFlow version: 2.10.1\n",
      "Seaborn version: 0.13.2\n",
      "Scikit-learn version: 1.5.0\n",
      "Keras version: 2.10.0\n",
      "IPython version: 8.15.0\n"
     ]
    }
   ],
   "source": [
    "import os\n",
    "import random\n",
    "import pydot\n",
    "import cv2\n",
    "import pandas as pd\n",
    "import numpy as np\n",
    "import matplotlib as plt\n",
    "import tensorflow as tf\n",
    "import seaborn as sns\n",
    "from sklearn import __version__ as sklearn_version\n",
    "from keras import __version__ as keras_version\n",
    "from IPython import __version__ as ipython_version\n",
    "\n",
    "# Check versions\n",
    "print(\"OS version:\", os.name)\n",
    "print(\"Random library version:\", random.__doc__)\n",
    "print(\"Pydot version:\", pydot.__version__)\n",
    "print(\"OpenCV version:\", cv2.__version__)\n",
    "print(\"Pandas version:\", pd.__version__)\n",
    "print(\"NumPy version:\", np.__version__)\n",
    "print(\"Matplotlib version:\", plt.__version__)\n",
    "print(\"TensorFlow version:\", tf.__version__)\n",
    "print(\"Seaborn version:\", sns.__version__)\n",
    "print(\"Scikit-learn version:\", sklearn_version)\n",
    "print(\"Keras version:\", keras_version)\n",
    "print(\"IPython version:\", ipython_version)\n"
   ]
  },
  {
   "cell_type": "markdown",
   "metadata": {
    "id": "TooGGHIM7a0G"
   },
   "source": [
    "### **Image Path Declearation and dividing test and Traning 9:1**\n",
    "\n",
    "---\n",
    "\n",
    "\n"
   ]
  },
  {
   "cell_type": "code",
   "execution_count": 3,
   "metadata": {
    "executionInfo": {
     "elapsed": 38,
     "status": "ok",
     "timestamp": 1716611611701,
     "user": {
      "displayName": "Venus Waikhom",
      "userId": "06545940090851381132"
     },
     "user_tz": -330
    },
    "id": "arqYegVKx1JT"
   },
   "outputs": [],
   "source": [
    "image_directory = r'C:\\Users\\Jardani\\Desktop\\Venus Folder\\256_Size_Object_Classification_Images'"
   ]
  },
  {
   "cell_type": "code",
   "execution_count": 4,
   "metadata": {
    "colab": {
     "base_uri": "https://localhost:8080/"
    },
    "executionInfo": {
     "elapsed": 36,
     "status": "ok",
     "timestamp": 1716611611701,
     "user": {
      "displayName": "Venus Waikhom",
      "userId": "06545940090851381132"
     },
     "user_tz": -330
    },
    "id": "6nX-6LwQPJus",
    "outputId": "3e82fe25-d148-40bc-8a84-8c05732a79a0"
   },
   "outputs": [
    {
     "name": "stdout",
     "output_type": "stream",
     "text": [
      "Class Labels: ['Bike', 'Car', 'Cat', 'Chair', 'Cup', 'Dog', 'Person', 'Sofa']\n"
     ]
    }
   ],
   "source": [
    "class_labels = sorted(os.listdir(image_directory))\n",
    "\n",
    "with open('class_labels.txt', 'w') as file:\n",
    "    for label in class_labels:\n",
    "        file.write(label + '\\n')\n",
    "\n",
    "print(\"Class Labels:\", class_labels)"
   ]
  },
  {
   "cell_type": "code",
   "execution_count": 5,
   "metadata": {
    "executionInfo": {
     "elapsed": 33,
     "status": "ok",
     "timestamp": 1716611611701,
     "user": {
      "displayName": "Venus Waikhom",
      "userId": "06545940090851381132"
     },
     "user_tz": -330
    },
    "id": "mSjQ95B9g14r"
   },
   "outputs": [],
   "source": [
    "def get_image_paths_and_labels(image_directory):\n",
    "    classes = [d for d in os.listdir(image_directory) if os.path.isdir(os.path.join(image_directory, d))]\n",
    "    file_paths = []\n",
    "    labels = []\n",
    "\n",
    "    for class_name in classes:\n",
    "        class_dir = os.path.join(image_directory, class_name)\n",
    "        images = [f for f in os.listdir(class_dir) if os.path.isfile(os.path.join(class_dir, f))]\n",
    "        file_paths.extend([os.path.join(class_dir, image) for image in images])\n",
    "        labels.extend([class_name] * len(images))\n",
    "\n",
    "    return file_paths, labels"
   ]
  },
  {
   "cell_type": "code",
   "execution_count": 6,
   "metadata": {
    "executionInfo": {
     "elapsed": 32,
     "status": "ok",
     "timestamp": 1716611611701,
     "user": {
      "displayName": "Venus Waikhom",
      "userId": "06545940090851381132"
     },
     "user_tz": -330
    },
    "id": "rPRMqmL6g4Dy"
   },
   "outputs": [],
   "source": [
    "def shuffle_and_split_data(file_paths, labels, test_ratio=0.1):\n",
    "    data = list(zip(file_paths, labels))\n",
    "    random.shuffle(data)\n",
    "    file_paths, labels = zip(*data)\n",
    "\n",
    "    split_index = int(len(file_paths) * (1 - test_ratio))\n",
    "    train_paths, test_paths = file_paths[:split_index], file_paths[split_index:]\n",
    "    train_labels, test_labels = labels[:split_index], labels[split_index:]\n",
    "\n",
    "    return train_paths, train_labels, test_paths, test_labels"
   ]
  },
  {
   "cell_type": "code",
   "execution_count": 7,
   "metadata": {
    "executionInfo": {
     "elapsed": 748,
     "status": "ok",
     "timestamp": 1716611612418,
     "user": {
      "displayName": "Venus Waikhom",
      "userId": "06545940090851381132"
     },
     "user_tz": -330
    },
    "id": "A5pPOsSYg6GM"
   },
   "outputs": [],
   "source": [
    "file_paths, labels = get_image_paths_and_labels(image_directory)"
   ]
  },
  {
   "cell_type": "code",
   "execution_count": 8,
   "metadata": {
    "executionInfo": {
     "elapsed": 6,
     "status": "ok",
     "timestamp": 1716611612418,
     "user": {
      "displayName": "Venus Waikhom",
      "userId": "06545940090851381132"
     },
     "user_tz": -330
    },
    "id": "Kd7JCKKIg8H_"
   },
   "outputs": [],
   "source": [
    "train_paths, train_labels, test_paths, test_labels = shuffle_and_split_data(file_paths, labels, test_ratio=0.1)"
   ]
  },
  {
   "cell_type": "code",
   "execution_count": 9,
   "metadata": {
    "executionInfo": {
     "elapsed": 5,
     "status": "ok",
     "timestamp": 1716611612418,
     "user": {
      "displayName": "Venus Waikhom",
      "userId": "06545940090851381132"
     },
     "user_tz": -330
    },
    "id": "eQsiW-c9g-Gc"
   },
   "outputs": [],
   "source": [
    "train_val_df = pd.DataFrame({'filename': train_paths, 'class': train_labels})\n",
    "test_df = pd.DataFrame({'filename': test_paths, 'class': test_labels})\n"
   ]
  },
  {
   "cell_type": "markdown",
   "metadata": {
    "id": "BMF1Xq2j7lif"
   },
   "source": [
    "### **Declearing Image Size And Epochs**\n",
    "\n",
    "---\n",
    "\n"
   ]
  },
  {
   "cell_type": "code",
   "execution_count": 10,
   "metadata": {
    "executionInfo": {
     "elapsed": 5,
     "status": "ok",
     "timestamp": 1716611612418,
     "user": {
      "displayName": "Venus Waikhom",
      "userId": "06545940090851381132"
     },
     "user_tz": -330
    },
    "id": "DN0XxI__hDlE"
   },
   "outputs": [],
   "source": [
    "IMAGE_WIDTH, IMAGE_HEIGHT = 256, 256\n",
    "BATCH_SIZE = 32\n",
    "EPOCHS = 100\n",
    "K = 5\n",
    "\n",
    "NUM_CLASSES = len(class_labels)\n"
   ]
  },
  {
   "cell_type": "code",
   "execution_count": 11,
   "metadata": {
    "executionInfo": {
     "elapsed": 4,
     "status": "ok",
     "timestamp": 1716611612418,
     "user": {
      "displayName": "Venus Waikhom",
      "userId": "06545940090851381132"
     },
     "user_tz": -330
    },
    "id": "NiXktTPAhI-P"
   },
   "outputs": [],
   "source": [
    "train_datagen = ImageDataGenerator(\n",
    "    rescale=1./255,\n",
    "    shear_range=0.2,\n",
    "    zoom_range=0.2,\n",
    "    horizontal_flip=True\n",
    ")"
   ]
  },
  {
   "cell_type": "code",
   "execution_count": 12,
   "metadata": {
    "executionInfo": {
     "elapsed": 5,
     "status": "ok",
     "timestamp": 1716611612419,
     "user": {
      "displayName": "Venus Waikhom",
      "userId": "06545940090851381132"
     },
     "user_tz": -330
    },
    "id": "PPgnZ03nhJfA"
   },
   "outputs": [],
   "source": [
    "validation_datagen = ImageDataGenerator(rescale=1./255)"
   ]
  },
  {
   "cell_type": "markdown",
   "metadata": {
    "id": "zbCIJJ_K7qaI"
   },
   "source": [
    "### **K-Fold > Traning**\n",
    "\n",
    "---\n",
    "\n"
   ]
  },
  {
   "cell_type": "code",
   "execution_count": 13,
   "metadata": {
    "colab": {
     "base_uri": "https://localhost:8080/",
     "height": 443
    },
    "executionInfo": {
     "elapsed": 7951,
     "status": "error",
     "timestamp": 1716613743466,
     "user": {
      "displayName": "Venus Waikhom",
      "userId": "06545940090851381132"
     },
     "user_tz": -330
    },
    "id": "iauLD-BhhLZV",
    "outputId": "2d606214-35b4-4bd2-d032-63792bf4294a"
   },
   "outputs": [
    {
     "name": "stdout",
     "output_type": "stream",
     "text": [
      "Fold 1\n",
      "Found 10828 validated image filenames belonging to 8 classes.\n",
      "Found 2708 validated image filenames belonging to 8 classes.\n",
      "Epoch 1/100\n",
      "339/339 [==============================] - ETA: 0s - loss: 1.8851 - accuracy: 0.2329\n",
      "Epoch 1: val_accuracy improved from -inf to 0.38331, saving model to model_fold_1.h5\n",
      "339/339 [==============================] - 84s 233ms/step - loss: 1.8851 - accuracy: 0.2329 - val_loss: 1.5742 - val_accuracy: 0.3833\n",
      "Epoch 2/100\n",
      "339/339 [==============================] - ETA: 0s - loss: 1.5215 - accuracy: 0.3979\n",
      "Epoch 2: val_accuracy improved from 0.38331 to 0.50332, saving model to model_fold_1.h5\n",
      "339/339 [==============================] - 74s 217ms/step - loss: 1.5215 - accuracy: 0.3979 - val_loss: 1.2936 - val_accuracy: 0.5033\n",
      "Epoch 3/100\n",
      "339/339 [==============================] - ETA: 0s - loss: 1.3210 - accuracy: 0.4936\n",
      "Epoch 3: val_accuracy improved from 0.50332 to 0.55761, saving model to model_fold_1.h5\n",
      "339/339 [==============================] - 75s 220ms/step - loss: 1.3210 - accuracy: 0.4936 - val_loss: 1.1669 - val_accuracy: 0.5576\n",
      "Epoch 4/100\n",
      "339/339 [==============================] - ETA: 0s - loss: 1.1846 - accuracy: 0.5512\n",
      "Epoch 4: val_accuracy improved from 0.55761 to 0.60414, saving model to model_fold_1.h5\n",
      "339/339 [==============================] - 75s 222ms/step - loss: 1.1846 - accuracy: 0.5512 - val_loss: 1.0641 - val_accuracy: 0.6041\n",
      "Epoch 5/100\n",
      "339/339 [==============================] - ETA: 0s - loss: 1.0712 - accuracy: 0.5932\n",
      "Epoch 5: val_accuracy improved from 0.60414 to 0.61263, saving model to model_fold_1.h5\n",
      "339/339 [==============================] - 76s 223ms/step - loss: 1.0712 - accuracy: 0.5932 - val_loss: 0.9694 - val_accuracy: 0.6126\n",
      "Epoch 6/100\n",
      "339/339 [==============================] - ETA: 0s - loss: 0.9794 - accuracy: 0.6240\n",
      "Epoch 6: val_accuracy improved from 0.61263 to 0.66470, saving model to model_fold_1.h5\n",
      "339/339 [==============================] - 74s 219ms/step - loss: 0.9794 - accuracy: 0.6240 - val_loss: 0.8957 - val_accuracy: 0.6647\n",
      "Epoch 7/100\n",
      "339/339 [==============================] - ETA: 0s - loss: 0.9053 - accuracy: 0.6569\n",
      "Epoch 7: val_accuracy improved from 0.66470 to 0.70790, saving model to model_fold_1.h5\n",
      "339/339 [==============================] - 73s 217ms/step - loss: 0.9053 - accuracy: 0.6569 - val_loss: 0.8071 - val_accuracy: 0.7079\n",
      "Epoch 8/100\n",
      "339/339 [==============================] - ETA: 0s - loss: 0.8344 - accuracy: 0.6863\n",
      "Epoch 8: val_accuracy improved from 0.70790 to 0.71196, saving model to model_fold_1.h5\n",
      "339/339 [==============================] - 73s 214ms/step - loss: 0.8344 - accuracy: 0.6863 - val_loss: 0.7936 - val_accuracy: 0.7120\n",
      "Epoch 9/100\n",
      "339/339 [==============================] - ETA: 0s - loss: 0.7750 - accuracy: 0.7147\n",
      "Epoch 9: val_accuracy improved from 0.71196 to 0.73117, saving model to model_fold_1.h5\n",
      "339/339 [==============================] - 73s 214ms/step - loss: 0.7750 - accuracy: 0.7147 - val_loss: 0.7359 - val_accuracy: 0.7312\n",
      "Epoch 10/100\n",
      "339/339 [==============================] - ETA: 0s - loss: 0.7332 - accuracy: 0.7264\n",
      "Epoch 10: val_accuracy improved from 0.73117 to 0.75886, saving model to model_fold_1.h5\n",
      "339/339 [==============================] - 74s 219ms/step - loss: 0.7332 - accuracy: 0.7264 - val_loss: 0.6494 - val_accuracy: 0.7589\n",
      "Epoch 11/100\n",
      "339/339 [==============================] - ETA: 0s - loss: 0.6945 - accuracy: 0.7477\n",
      "Epoch 11: val_accuracy did not improve from 0.75886\n",
      "339/339 [==============================] - 73s 215ms/step - loss: 0.6945 - accuracy: 0.7477 - val_loss: 0.7028 - val_accuracy: 0.7367\n",
      "Epoch 12/100\n",
      "339/339 [==============================] - ETA: 0s - loss: 0.6543 - accuracy: 0.7569\n",
      "Epoch 12: val_accuracy improved from 0.75886 to 0.78877, saving model to model_fold_1.h5\n",
      "339/339 [==============================] - 73s 215ms/step - loss: 0.6543 - accuracy: 0.7569 - val_loss: 0.5982 - val_accuracy: 0.7888\n",
      "Epoch 13/100\n",
      "339/339 [==============================] - ETA: 0s - loss: 0.6168 - accuracy: 0.7739\n",
      "Epoch 13: val_accuracy did not improve from 0.78877\n",
      "339/339 [==============================] - 73s 214ms/step - loss: 0.6168 - accuracy: 0.7739 - val_loss: 0.6139 - val_accuracy: 0.7869\n",
      "Epoch 14/100\n",
      "339/339 [==============================] - ETA: 0s - loss: 0.5806 - accuracy: 0.7861\n",
      "Epoch 14: val_accuracy did not improve from 0.78877\n",
      "339/339 [==============================] - 72s 213ms/step - loss: 0.5806 - accuracy: 0.7861 - val_loss: 0.6103 - val_accuracy: 0.7829\n",
      "Epoch 15/100\n",
      "339/339 [==============================] - ETA: 0s - loss: 0.5430 - accuracy: 0.8063\n",
      "Epoch 15: val_accuracy improved from 0.78877 to 0.79542, saving model to model_fold_1.h5\n",
      "339/339 [==============================] - 72s 213ms/step - loss: 0.5430 - accuracy: 0.8063 - val_loss: 0.5956 - val_accuracy: 0.7954\n",
      "Epoch 16/100\n",
      "339/339 [==============================] - ETA: 0s - loss: 0.5174 - accuracy: 0.8134\n",
      "Epoch 16: val_accuracy improved from 0.79542 to 0.82201, saving model to model_fold_1.h5\n",
      "339/339 [==============================] - 73s 215ms/step - loss: 0.5174 - accuracy: 0.8134 - val_loss: 0.5450 - val_accuracy: 0.8220\n",
      "Epoch 17/100\n",
      "339/339 [==============================] - ETA: 0s - loss: 0.4829 - accuracy: 0.8274\n",
      "Epoch 17: val_accuracy did not improve from 0.82201\n",
      "339/339 [==============================] - 73s 216ms/step - loss: 0.4829 - accuracy: 0.8274 - val_loss: 0.5543 - val_accuracy: 0.8013\n",
      "Epoch 18/100\n",
      "339/339 [==============================] - ETA: 0s - loss: 0.4626 - accuracy: 0.8376\n",
      "Epoch 18: val_accuracy improved from 0.82201 to 0.83383, saving model to model_fold_1.h5\n",
      "339/339 [==============================] - 73s 214ms/step - loss: 0.4626 - accuracy: 0.8376 - val_loss: 0.4733 - val_accuracy: 0.8338\n",
      "Epoch 19/100\n",
      "339/339 [==============================] - ETA: 0s - loss: 0.4374 - accuracy: 0.8483\n",
      "Epoch 19: val_accuracy did not improve from 0.83383\n",
      "339/339 [==============================] - 75s 220ms/step - loss: 0.4374 - accuracy: 0.8483 - val_loss: 0.4954 - val_accuracy: 0.8253\n",
      "Epoch 20/100\n",
      "339/339 [==============================] - ETA: 0s - loss: 0.4181 - accuracy: 0.8512\n",
      "Epoch 20: val_accuracy improved from 0.83383 to 0.84121, saving model to model_fold_1.h5\n",
      "339/339 [==============================] - 72s 213ms/step - loss: 0.4181 - accuracy: 0.8512 - val_loss: 0.4384 - val_accuracy: 0.8412\n",
      "Epoch 21/100\n",
      "339/339 [==============================] - ETA: 0s - loss: 0.3930 - accuracy: 0.8623\n",
      "Epoch 21: val_accuracy did not improve from 0.84121\n",
      "339/339 [==============================] - 73s 214ms/step - loss: 0.3930 - accuracy: 0.8623 - val_loss: 0.4783 - val_accuracy: 0.8360\n",
      "Epoch 22/100\n",
      "339/339 [==============================] - ETA: 0s - loss: 0.3906 - accuracy: 0.8624\n",
      "Epoch 22: val_accuracy improved from 0.84121 to 0.86189, saving model to model_fold_1.h5\n",
      "339/339 [==============================] - 73s 215ms/step - loss: 0.3906 - accuracy: 0.8624 - val_loss: 0.4017 - val_accuracy: 0.8619\n",
      "Epoch 23/100\n",
      "339/339 [==============================] - ETA: 0s - loss: 0.3598 - accuracy: 0.8747\n",
      "Epoch 23: val_accuracy did not improve from 0.86189\n",
      "339/339 [==============================] - 72s 213ms/step - loss: 0.3598 - accuracy: 0.8747 - val_loss: 0.3926 - val_accuracy: 0.8615\n",
      "Epoch 24/100\n",
      "339/339 [==============================] - ETA: 0s - loss: 0.3574 - accuracy: 0.8786\n",
      "Epoch 24: val_accuracy did not improve from 0.86189\n",
      "339/339 [==============================] - 72s 213ms/step - loss: 0.3574 - accuracy: 0.8786 - val_loss: 0.4293 - val_accuracy: 0.8541\n",
      "Epoch 25/100\n",
      "339/339 [==============================] - ETA: 0s - loss: 0.3435 - accuracy: 0.8801\n",
      "Epoch 25: val_accuracy improved from 0.86189 to 0.88368, saving model to model_fold_1.h5\n",
      "339/339 [==============================] - 73s 214ms/step - loss: 0.3435 - accuracy: 0.8801 - val_loss: 0.3587 - val_accuracy: 0.8837\n",
      "Epoch 26/100\n",
      "339/339 [==============================] - ETA: 0s - loss: 0.3275 - accuracy: 0.8871\n",
      "Epoch 26: val_accuracy did not improve from 0.88368\n",
      "339/339 [==============================] - 73s 214ms/step - loss: 0.3275 - accuracy: 0.8871 - val_loss: 0.3928 - val_accuracy: 0.8730\n",
      "Epoch 27/100\n",
      "339/339 [==============================] - ETA: 0s - loss: 0.3182 - accuracy: 0.8882\n",
      "Epoch 27: val_accuracy did not improve from 0.88368\n",
      "339/339 [==============================] - 73s 214ms/step - loss: 0.3182 - accuracy: 0.8882 - val_loss: 0.4343 - val_accuracy: 0.8560\n",
      "Epoch 28/100\n",
      "339/339 [==============================] - ETA: 0s - loss: 0.2875 - accuracy: 0.9008\n",
      "Epoch 28: val_accuracy improved from 0.88368 to 0.89439, saving model to model_fold_1.h5\n",
      "339/339 [==============================] - 74s 217ms/step - loss: 0.2875 - accuracy: 0.9008 - val_loss: 0.3224 - val_accuracy: 0.8944\n",
      "Epoch 29/100\n",
      "339/339 [==============================] - ETA: 0s - loss: 0.2779 - accuracy: 0.9014\n",
      "Epoch 29: val_accuracy did not improve from 0.89439\n",
      "339/339 [==============================] - 73s 216ms/step - loss: 0.2779 - accuracy: 0.9014 - val_loss: 0.3804 - val_accuracy: 0.8759\n",
      "Epoch 30/100\n",
      "339/339 [==============================] - ETA: 0s - loss: 0.2920 - accuracy: 0.9010\n",
      "Epoch 30: val_accuracy did not improve from 0.89439\n",
      "339/339 [==============================] - 73s 216ms/step - loss: 0.2920 - accuracy: 0.9010 - val_loss: 0.4217 - val_accuracy: 0.8641\n",
      "Epoch 31/100\n",
      "339/339 [==============================] - ETA: 0s - loss: 0.2530 - accuracy: 0.9117\n",
      "Epoch 31: val_accuracy did not improve from 0.89439\n",
      "339/339 [==============================] - 73s 216ms/step - loss: 0.2530 - accuracy: 0.9117 - val_loss: 0.3818 - val_accuracy: 0.8770\n",
      "Epoch 32/100\n",
      "339/339 [==============================] - ETA: 0s - loss: 0.2629 - accuracy: 0.9091\n",
      "Epoch 32: val_accuracy did not improve from 0.89439\n",
      "339/339 [==============================] - 74s 217ms/step - loss: 0.2629 - accuracy: 0.9091 - val_loss: 0.3620 - val_accuracy: 0.8767\n",
      "Epoch 33/100\n",
      "339/339 [==============================] - ETA: 0s - loss: 0.2599 - accuracy: 0.9094\n",
      "Epoch 33: val_accuracy did not improve from 0.89439\n",
      "339/339 [==============================] - 73s 215ms/step - loss: 0.2599 - accuracy: 0.9094 - val_loss: 0.3583 - val_accuracy: 0.8870\n",
      "85/85 [==============================] - 2s 27ms/step - loss: 0.3224 - accuracy: 0.8944\n",
      "Score for fold 1: loss of 0.3223525285720825; accuracy of 89.43870067596436%\n",
      "Fold 2\n",
      "Found 10829 validated image filenames belonging to 8 classes.\n",
      "Found 2707 validated image filenames belonging to 8 classes.\n",
      "Epoch 1/100\n",
      "339/339 [==============================] - ETA: 0s - loss: 1.8460 - accuracy: 0.2518\n",
      "Epoch 1: val_accuracy improved from -inf to 0.37015, saving model to model_fold_2.h5\n",
      "339/339 [==============================] - 75s 219ms/step - loss: 1.8460 - accuracy: 0.2518 - val_loss: 1.5857 - val_accuracy: 0.3702\n",
      "Epoch 2/100\n",
      "339/339 [==============================] - ETA: 0s - loss: 1.4835 - accuracy: 0.4278\n",
      "Epoch 2: val_accuracy improved from 0.37015 to 0.48319, saving model to model_fold_2.h5\n",
      "339/339 [==============================] - 73s 215ms/step - loss: 1.4835 - accuracy: 0.4278 - val_loss: 1.3580 - val_accuracy: 0.4832\n",
      "Epoch 3/100\n",
      "339/339 [==============================] - ETA: 0s - loss: 1.2645 - accuracy: 0.5102\n",
      "Epoch 3: val_accuracy improved from 0.48319 to 0.57407, saving model to model_fold_2.h5\n",
      "339/339 [==============================] - 73s 214ms/step - loss: 1.2645 - accuracy: 0.5102 - val_loss: 1.1188 - val_accuracy: 0.5741\n",
      "Epoch 4/100\n",
      "339/339 [==============================] - ETA: 0s - loss: 1.1042 - accuracy: 0.5755\n",
      "Epoch 4: val_accuracy improved from 0.57407 to 0.60510, saving model to model_fold_2.h5\n",
      "339/339 [==============================] - 73s 214ms/step - loss: 1.1042 - accuracy: 0.5755 - val_loss: 0.9993 - val_accuracy: 0.6051\n",
      "Epoch 5/100\n",
      "339/339 [==============================] - ETA: 0s - loss: 1.0219 - accuracy: 0.6116\n",
      "Epoch 5: val_accuracy improved from 0.60510 to 0.66199, saving model to model_fold_2.h5\n",
      "339/339 [==============================] - 72s 213ms/step - loss: 1.0219 - accuracy: 0.6116 - val_loss: 0.8629 - val_accuracy: 0.6620\n",
      "Epoch 6/100\n",
      "339/339 [==============================] - ETA: 0s - loss: 0.9518 - accuracy: 0.6366\n",
      "Epoch 6: val_accuracy improved from 0.66199 to 0.66568, saving model to model_fold_2.h5\n",
      "339/339 [==============================] - 72s 213ms/step - loss: 0.9518 - accuracy: 0.6366 - val_loss: 0.8544 - val_accuracy: 0.6657\n",
      "Epoch 7/100\n",
      "339/339 [==============================] - ETA: 0s - loss: 0.8574 - accuracy: 0.6751\n",
      "Epoch 7: val_accuracy did not improve from 0.66568\n",
      "339/339 [==============================] - 73s 214ms/step - loss: 0.8574 - accuracy: 0.6751 - val_loss: 0.9734 - val_accuracy: 0.6313\n",
      "Epoch 8/100\n",
      "339/339 [==============================] - ETA: 0s - loss: 0.8357 - accuracy: 0.6778\n",
      "Epoch 8: val_accuracy did not improve from 0.66568\n",
      "339/339 [==============================] - 72s 213ms/step - loss: 0.8357 - accuracy: 0.6778 - val_loss: 0.9494 - val_accuracy: 0.6579\n",
      "Epoch 9/100\n",
      "339/339 [==============================] - ETA: 0s - loss: 0.7690 - accuracy: 0.7044\n",
      "Epoch 9: val_accuracy improved from 0.66568 to 0.71629, saving model to model_fold_2.h5\n",
      "339/339 [==============================] - 72s 213ms/step - loss: 0.7690 - accuracy: 0.7044 - val_loss: 0.7397 - val_accuracy: 0.7163\n",
      "Epoch 10/100\n",
      "339/339 [==============================] - ETA: 0s - loss: 0.7396 - accuracy: 0.7256\n",
      "Epoch 10: val_accuracy improved from 0.71629 to 0.73291, saving model to model_fold_2.h5\n",
      "339/339 [==============================] - 77s 228ms/step - loss: 0.7396 - accuracy: 0.7256 - val_loss: 0.6845 - val_accuracy: 0.7329\n",
      "Epoch 11/100\n",
      "339/339 [==============================] - ETA: 0s - loss: 0.7108 - accuracy: 0.7331\n",
      "Epoch 11: val_accuracy did not improve from 0.73291\n",
      "339/339 [==============================] - 72s 213ms/step - loss: 0.7108 - accuracy: 0.7331 - val_loss: 0.7314 - val_accuracy: 0.7185\n",
      "Epoch 12/100\n",
      "339/339 [==============================] - ETA: 0s - loss: 0.6557 - accuracy: 0.7497\n",
      "Epoch 12: val_accuracy improved from 0.73291 to 0.76579, saving model to model_fold_2.h5\n",
      "339/339 [==============================] - 73s 214ms/step - loss: 0.6557 - accuracy: 0.7497 - val_loss: 0.6277 - val_accuracy: 0.7658\n",
      "Epoch 13/100\n",
      "339/339 [==============================] - ETA: 0s - loss: 0.6227 - accuracy: 0.7685\n",
      "Epoch 13: val_accuracy improved from 0.76579 to 0.79645, saving model to model_fold_2.h5\n",
      "339/339 [==============================] - 73s 215ms/step - loss: 0.6227 - accuracy: 0.7685 - val_loss: 0.5542 - val_accuracy: 0.7965\n",
      "Epoch 14/100\n",
      "339/339 [==============================] - ETA: 0s - loss: 0.6025 - accuracy: 0.7793\n",
      "Epoch 14: val_accuracy improved from 0.79645 to 0.80680, saving model to model_fold_2.h5\n",
      "339/339 [==============================] - 72s 214ms/step - loss: 0.6025 - accuracy: 0.7793 - val_loss: 0.5451 - val_accuracy: 0.8068\n",
      "Epoch 15/100\n",
      "339/339 [==============================] - ETA: 0s - loss: 0.5819 - accuracy: 0.7913\n",
      "Epoch 15: val_accuracy improved from 0.80680 to 0.81271, saving model to model_fold_2.h5\n",
      "339/339 [==============================] - 73s 214ms/step - loss: 0.5819 - accuracy: 0.7913 - val_loss: 0.5262 - val_accuracy: 0.8127\n",
      "Epoch 16/100\n",
      "339/339 [==============================] - ETA: 0s - loss: 0.5251 - accuracy: 0.8062\n",
      "Epoch 16: val_accuracy improved from 0.81271 to 0.81714, saving model to model_fold_2.h5\n",
      "339/339 [==============================] - 72s 213ms/step - loss: 0.5251 - accuracy: 0.8062 - val_loss: 0.5137 - val_accuracy: 0.8171\n",
      "Epoch 17/100\n",
      "339/339 [==============================] - ETA: 0s - loss: 0.5137 - accuracy: 0.8176\n",
      "Epoch 17: val_accuracy did not improve from 0.81714\n",
      "339/339 [==============================] - 73s 214ms/step - loss: 0.5137 - accuracy: 0.8176 - val_loss: 0.5431 - val_accuracy: 0.7968\n",
      "Epoch 18/100\n",
      "339/339 [==============================] - ETA: 0s - loss: 0.4621 - accuracy: 0.8362\n",
      "Epoch 18: val_accuracy did not improve from 0.81714\n",
      "339/339 [==============================] - 73s 215ms/step - loss: 0.4621 - accuracy: 0.8362 - val_loss: 0.6485 - val_accuracy: 0.7828\n",
      "Epoch 19/100\n",
      "339/339 [==============================] - ETA: 0s - loss: 0.4559 - accuracy: 0.8373\n",
      "Epoch 19: val_accuracy improved from 0.81714 to 0.84595, saving model to model_fold_2.h5\n",
      "339/339 [==============================] - 72s 214ms/step - loss: 0.4559 - accuracy: 0.8373 - val_loss: 0.4420 - val_accuracy: 0.8460\n",
      "Epoch 20/100\n",
      "339/339 [==============================] - ETA: 0s - loss: 0.4212 - accuracy: 0.8497\n",
      "Epoch 20: val_accuracy did not improve from 0.84595\n",
      "339/339 [==============================] - 72s 213ms/step - loss: 0.4212 - accuracy: 0.8497 - val_loss: 0.5409 - val_accuracy: 0.8275\n",
      "Epoch 21/100\n",
      "339/339 [==============================] - ETA: 0s - loss: 0.4196 - accuracy: 0.8514\n",
      "Epoch 21: val_accuracy did not improve from 0.84595\n",
      "339/339 [==============================] - 73s 215ms/step - loss: 0.4196 - accuracy: 0.8514 - val_loss: 0.4530 - val_accuracy: 0.8423\n",
      "Epoch 22/100\n",
      "339/339 [==============================] - ETA: 0s - loss: 0.3855 - accuracy: 0.8597\n",
      "Epoch 22: val_accuracy improved from 0.84595 to 0.86332, saving model to model_fold_2.h5\n",
      "339/339 [==============================] - 73s 214ms/step - loss: 0.3855 - accuracy: 0.8597 - val_loss: 0.4041 - val_accuracy: 0.8633\n",
      "Epoch 23/100\n",
      "339/339 [==============================] - ETA: 0s - loss: 0.3678 - accuracy: 0.8714\n",
      "Epoch 23: val_accuracy improved from 0.86332 to 0.86553, saving model to model_fold_2.h5\n",
      "339/339 [==============================] - 73s 214ms/step - loss: 0.3678 - accuracy: 0.8714 - val_loss: 0.3888 - val_accuracy: 0.8655\n",
      "Epoch 24/100\n",
      "339/339 [==============================] - ETA: 0s - loss: 0.3531 - accuracy: 0.8768\n",
      "Epoch 24: val_accuracy did not improve from 0.86553\n",
      "339/339 [==============================] - 73s 216ms/step - loss: 0.3531 - accuracy: 0.8768 - val_loss: 0.4328 - val_accuracy: 0.8578\n",
      "Epoch 25/100\n",
      "339/339 [==============================] - ETA: 0s - loss: 0.3373 - accuracy: 0.8816\n",
      "Epoch 25: val_accuracy did not improve from 0.86553\n",
      "339/339 [==============================] - 73s 214ms/step - loss: 0.3373 - accuracy: 0.8816 - val_loss: 0.4125 - val_accuracy: 0.8559\n",
      "Epoch 26/100\n",
      "339/339 [==============================] - ETA: 0s - loss: 0.3260 - accuracy: 0.8876\n",
      "Epoch 26: val_accuracy did not improve from 0.86553\n",
      "339/339 [==============================] - 73s 214ms/step - loss: 0.3260 - accuracy: 0.8876 - val_loss: 0.4328 - val_accuracy: 0.8622\n",
      "Epoch 27/100\n",
      "339/339 [==============================] - ETA: 0s - loss: 0.3105 - accuracy: 0.8884\n",
      "Epoch 27: val_accuracy improved from 0.86553 to 0.88807, saving model to model_fold_2.h5\n",
      "339/339 [==============================] - 73s 214ms/step - loss: 0.3105 - accuracy: 0.8884 - val_loss: 0.3894 - val_accuracy: 0.8881\n",
      "Epoch 28/100\n",
      "339/339 [==============================] - ETA: 0s - loss: 0.3069 - accuracy: 0.8894\n",
      "Epoch 28: val_accuracy did not improve from 0.88807\n",
      "339/339 [==============================] - 73s 214ms/step - loss: 0.3069 - accuracy: 0.8894 - val_loss: 0.4122 - val_accuracy: 0.8626\n",
      "Epoch 29/100\n",
      "339/339 [==============================] - ETA: 0s - loss: 0.2895 - accuracy: 0.8970\n",
      "Epoch 29: val_accuracy did not improve from 0.88807\n",
      "339/339 [==============================] - 73s 214ms/step - loss: 0.2895 - accuracy: 0.8970 - val_loss: 0.3705 - val_accuracy: 0.8810\n",
      "Epoch 30/100\n",
      "339/339 [==============================] - ETA: 0s - loss: 0.2801 - accuracy: 0.9052\n",
      "Epoch 30: val_accuracy did not improve from 0.88807\n",
      "339/339 [==============================] - 73s 214ms/step - loss: 0.2801 - accuracy: 0.9052 - val_loss: 0.3477 - val_accuracy: 0.8862\n",
      "Epoch 31/100\n",
      "339/339 [==============================] - ETA: 0s - loss: 0.2564 - accuracy: 0.9108\n",
      "Epoch 31: val_accuracy did not improve from 0.88807\n",
      "339/339 [==============================] - 73s 214ms/step - loss: 0.2564 - accuracy: 0.9108 - val_loss: 0.4145 - val_accuracy: 0.8740\n",
      "Epoch 32/100\n",
      "339/339 [==============================] - ETA: 0s - loss: 0.2662 - accuracy: 0.9073\n",
      "Epoch 32: val_accuracy did not improve from 0.88807\n",
      "339/339 [==============================] - 73s 214ms/step - loss: 0.2662 - accuracy: 0.9073 - val_loss: 0.3685 - val_accuracy: 0.8870\n",
      "85/85 [==============================] - 2s 27ms/step - loss: 0.3894 - accuracy: 0.8881\n",
      "Score for fold 2: loss of 0.3893658220767975; accuracy of 88.80679607391357%\n",
      "Fold 3\n",
      "Found 10829 validated image filenames belonging to 8 classes.\n",
      "Found 2707 validated image filenames belonging to 8 classes.\n",
      "Epoch 1/100\n",
      "339/339 [==============================] - ETA: 0s - loss: 2.0587 - accuracy: 0.1383\n",
      "Epoch 1: val_accuracy improved from -inf to 0.20429, saving model to model_fold_3.h5\n",
      "339/339 [==============================] - 74s 216ms/step - loss: 2.0587 - accuracy: 0.1383 - val_loss: 1.9630 - val_accuracy: 0.2043\n",
      "Epoch 2/100\n",
      "339/339 [==============================] - ETA: 0s - loss: 1.7803 - accuracy: 0.2872\n",
      "Epoch 2: val_accuracy improved from 0.20429 to 0.43110, saving model to model_fold_3.h5\n",
      "339/339 [==============================] - 72s 213ms/step - loss: 1.7803 - accuracy: 0.2872 - val_loss: 1.4821 - val_accuracy: 0.4311\n",
      "Epoch 3/100\n",
      "339/339 [==============================] - ETA: 0s - loss: 1.4935 - accuracy: 0.4144\n",
      "Epoch 3: val_accuracy improved from 0.43110 to 0.51053, saving model to model_fold_3.h5\n",
      "339/339 [==============================] - 76s 223ms/step - loss: 1.4935 - accuracy: 0.4144 - val_loss: 1.2842 - val_accuracy: 0.5105\n",
      "Epoch 4/100\n",
      "339/339 [==============================] - ETA: 0s - loss: 1.3010 - accuracy: 0.5013\n",
      "Epoch 4: val_accuracy improved from 0.51053 to 0.53897, saving model to model_fold_3.h5\n",
      "339/339 [==============================] - 73s 214ms/step - loss: 1.3010 - accuracy: 0.5013 - val_loss: 1.2051 - val_accuracy: 0.5390\n",
      "Epoch 5/100\n",
      "339/339 [==============================] - ETA: 0s - loss: 1.1721 - accuracy: 0.5548\n",
      "Epoch 5: val_accuracy improved from 0.53897 to 0.58515, saving model to model_fold_3.h5\n",
      "339/339 [==============================] - 73s 214ms/step - loss: 1.1721 - accuracy: 0.5548 - val_loss: 1.0657 - val_accuracy: 0.5851\n",
      "Epoch 6/100\n",
      "339/339 [==============================] - ETA: 0s - loss: 1.0606 - accuracy: 0.5974\n",
      "Epoch 6: val_accuracy improved from 0.58515 to 0.61359, saving model to model_fold_3.h5\n",
      "339/339 [==============================] - 73s 214ms/step - loss: 1.0606 - accuracy: 0.5974 - val_loss: 1.0446 - val_accuracy: 0.6136\n",
      "Epoch 7/100\n",
      "339/339 [==============================] - ETA: 0s - loss: 0.9748 - accuracy: 0.6326\n",
      "Epoch 7: val_accuracy improved from 0.61359 to 0.66310, saving model to model_fold_3.h5\n",
      "339/339 [==============================] - 72s 213ms/step - loss: 0.9748 - accuracy: 0.6326 - val_loss: 0.8964 - val_accuracy: 0.6631\n",
      "Epoch 8/100\n",
      "339/339 [==============================] - ETA: 0s - loss: 0.8990 - accuracy: 0.6592\n",
      "Epoch 8: val_accuracy improved from 0.66310 to 0.67824, saving model to model_fold_3.h5\n",
      "339/339 [==============================] - 73s 215ms/step - loss: 0.8990 - accuracy: 0.6592 - val_loss: 0.8281 - val_accuracy: 0.6782\n",
      "Epoch 9/100\n",
      "339/339 [==============================] - ETA: 0s - loss: 0.8662 - accuracy: 0.6669\n",
      "Epoch 9: val_accuracy improved from 0.67824 to 0.71740, saving model to model_fold_3.h5\n",
      "339/339 [==============================] - 73s 214ms/step - loss: 0.8662 - accuracy: 0.6669 - val_loss: 0.7739 - val_accuracy: 0.7174\n",
      "Epoch 10/100\n",
      "339/339 [==============================] - ETA: 0s - loss: 0.7977 - accuracy: 0.7011\n",
      "Epoch 10: val_accuracy improved from 0.71740 to 0.73328, saving model to model_fold_3.h5\n",
      "339/339 [==============================] - 73s 214ms/step - loss: 0.7977 - accuracy: 0.7011 - val_loss: 0.7082 - val_accuracy: 0.7333\n",
      "Epoch 11/100\n",
      "339/339 [==============================] - ETA: 0s - loss: 0.7774 - accuracy: 0.7037\n",
      "Epoch 11: val_accuracy improved from 0.73328 to 0.75323, saving model to model_fold_3.h5\n",
      "339/339 [==============================] - 73s 216ms/step - loss: 0.7774 - accuracy: 0.7037 - val_loss: 0.6874 - val_accuracy: 0.7532\n",
      "Epoch 12/100\n",
      "339/339 [==============================] - ETA: 0s - loss: 0.7214 - accuracy: 0.7256\n",
      "Epoch 12: val_accuracy improved from 0.75323 to 0.75840, saving model to model_fold_3.h5\n",
      "339/339 [==============================] - 73s 214ms/step - loss: 0.7214 - accuracy: 0.7256 - val_loss: 0.6540 - val_accuracy: 0.7584\n",
      "Epoch 13/100\n",
      "339/339 [==============================] - ETA: 0s - loss: 0.6835 - accuracy: 0.7436\n",
      "Epoch 13: val_accuracy improved from 0.75840 to 0.77059, saving model to model_fold_3.h5\n",
      "339/339 [==============================] - 73s 214ms/step - loss: 0.6835 - accuracy: 0.7436 - val_loss: 0.6366 - val_accuracy: 0.7706\n",
      "Epoch 14/100\n",
      "339/339 [==============================] - ETA: 0s - loss: 0.6394 - accuracy: 0.7630\n",
      "Epoch 14: val_accuracy did not improve from 0.77059\n",
      "339/339 [==============================] - 73s 216ms/step - loss: 0.6394 - accuracy: 0.7630 - val_loss: 0.6456 - val_accuracy: 0.7639\n",
      "Epoch 15/100\n",
      "339/339 [==============================] - ETA: 0s - loss: 0.6065 - accuracy: 0.7799\n",
      "Epoch 15: val_accuracy improved from 0.77059 to 0.77724, saving model to model_fold_3.h5\n",
      "339/339 [==============================] - 73s 214ms/step - loss: 0.6065 - accuracy: 0.7799 - val_loss: 0.6331 - val_accuracy: 0.7772\n",
      "Epoch 16/100\n",
      "339/339 [==============================] - ETA: 0s - loss: 0.5768 - accuracy: 0.7865\n",
      "Epoch 16: val_accuracy improved from 0.77724 to 0.78980, saving model to model_fold_3.h5\n",
      "339/339 [==============================] - 73s 214ms/step - loss: 0.5768 - accuracy: 0.7865 - val_loss: 0.5583 - val_accuracy: 0.7898\n",
      "Epoch 17/100\n",
      "339/339 [==============================] - ETA: 0s - loss: 0.5499 - accuracy: 0.7978\n",
      "Epoch 17: val_accuracy did not improve from 0.78980\n",
      "339/339 [==============================] - 73s 214ms/step - loss: 0.5499 - accuracy: 0.7978 - val_loss: 0.6259 - val_accuracy: 0.7776\n",
      "Epoch 18/100\n",
      "339/339 [==============================] - ETA: 0s - loss: 0.5229 - accuracy: 0.8113\n",
      "Epoch 18: val_accuracy improved from 0.78980 to 0.80532, saving model to model_fold_3.h5\n",
      "339/339 [==============================] - 73s 215ms/step - loss: 0.5229 - accuracy: 0.8113 - val_loss: 0.5296 - val_accuracy: 0.8053\n",
      "Epoch 19/100\n",
      "339/339 [==============================] - ETA: 0s - loss: 0.5071 - accuracy: 0.8138\n",
      "Epoch 19: val_accuracy improved from 0.80532 to 0.81492, saving model to model_fold_3.h5\n",
      "339/339 [==============================] - 73s 214ms/step - loss: 0.5071 - accuracy: 0.8138 - val_loss: 0.5204 - val_accuracy: 0.8149\n",
      "Epoch 20/100\n",
      "339/339 [==============================] - ETA: 0s - loss: 0.4779 - accuracy: 0.8270\n",
      "Epoch 20: val_accuracy improved from 0.81492 to 0.83118, saving model to model_fold_3.h5\n",
      "339/339 [==============================] - 73s 214ms/step - loss: 0.4779 - accuracy: 0.8270 - val_loss: 0.5004 - val_accuracy: 0.8312\n",
      "Epoch 21/100\n",
      "339/339 [==============================] - ETA: 0s - loss: 0.4518 - accuracy: 0.8423\n",
      "Epoch 21: val_accuracy did not improve from 0.83118\n",
      "339/339 [==============================] - 73s 215ms/step - loss: 0.4518 - accuracy: 0.8423 - val_loss: 0.4924 - val_accuracy: 0.8275\n",
      "Epoch 22/100\n",
      "339/339 [==============================] - ETA: 0s - loss: 0.4448 - accuracy: 0.8444\n",
      "Epoch 22: val_accuracy did not improve from 0.83118\n",
      "339/339 [==============================] - 73s 214ms/step - loss: 0.4448 - accuracy: 0.8444 - val_loss: 0.7322 - val_accuracy: 0.7625\n",
      "Epoch 23/100\n",
      "339/339 [==============================] - ETA: 0s - loss: 0.4283 - accuracy: 0.8486\n",
      "Epoch 23: val_accuracy did not improve from 0.83118\n",
      "339/339 [==============================] - 72s 214ms/step - loss: 0.4283 - accuracy: 0.8486 - val_loss: 0.5049 - val_accuracy: 0.8142\n",
      "Epoch 24/100\n",
      "339/339 [==============================] - ETA: 0s - loss: 0.4268 - accuracy: 0.8481\n",
      "Epoch 24: val_accuracy did not improve from 0.83118\n",
      "339/339 [==============================] - 73s 214ms/step - loss: 0.4268 - accuracy: 0.8481 - val_loss: 0.6351 - val_accuracy: 0.7706\n",
      "Epoch 25/100\n",
      "339/339 [==============================] - ETA: 0s - loss: 0.3966 - accuracy: 0.8610\n",
      "Epoch 25: val_accuracy did not improve from 0.83118\n",
      "339/339 [==============================] - 73s 214ms/step - loss: 0.3966 - accuracy: 0.8610 - val_loss: 0.7023 - val_accuracy: 0.7780\n",
      "85/85 [==============================] - 3s 31ms/step - loss: 0.5004 - accuracy: 0.8312\n",
      "Score for fold 3: loss of 0.5004392862319946; accuracy of 83.11784267425537%\n",
      "Fold 4\n",
      "Found 10829 validated image filenames belonging to 8 classes.\n",
      "Found 2707 validated image filenames belonging to 8 classes.\n",
      "Epoch 1/100\n",
      "339/339 [==============================] - ETA: 0s - loss: 1.7946 - accuracy: 0.2688\n",
      "Epoch 1: val_accuracy improved from -inf to 0.38714, saving model to model_fold_4.h5\n",
      "339/339 [==============================] - 73s 215ms/step - loss: 1.7946 - accuracy: 0.2688 - val_loss: 1.5905 - val_accuracy: 0.3871\n",
      "Epoch 2/100\n",
      "339/339 [==============================] - ETA: 0s - loss: 1.5530 - accuracy: 0.3993\n",
      "Epoch 2: val_accuracy improved from 0.38714 to 0.46989, saving model to model_fold_4.h5\n",
      "339/339 [==============================] - 73s 214ms/step - loss: 1.5530 - accuracy: 0.3993 - val_loss: 1.3942 - val_accuracy: 0.4699\n",
      "Epoch 3/100\n",
      "339/339 [==============================] - ETA: 0s - loss: 1.3278 - accuracy: 0.4843\n",
      "Epoch 3: val_accuracy improved from 0.46989 to 0.51238, saving model to model_fold_4.h5\n",
      "339/339 [==============================] - 73s 214ms/step - loss: 1.3278 - accuracy: 0.4843 - val_loss: 1.2184 - val_accuracy: 0.5124\n",
      "Epoch 4/100\n",
      "339/339 [==============================] - ETA: 0s - loss: 1.1928 - accuracy: 0.5484\n",
      "Epoch 4: val_accuracy improved from 0.51238 to 0.56372, saving model to model_fold_4.h5\n",
      "339/339 [==============================] - 73s 214ms/step - loss: 1.1928 - accuracy: 0.5484 - val_loss: 1.1000 - val_accuracy: 0.5637\n",
      "Epoch 5/100\n",
      "339/339 [==============================] - ETA: 0s - loss: 1.0938 - accuracy: 0.5758\n",
      "Epoch 5: val_accuracy improved from 0.56372 to 0.63908, saving model to model_fold_4.h5\n",
      "339/339 [==============================] - 73s 215ms/step - loss: 1.0938 - accuracy: 0.5758 - val_loss: 0.9458 - val_accuracy: 0.6391\n",
      "Epoch 6/100\n",
      "339/339 [==============================] - ETA: 0s - loss: 0.9903 - accuracy: 0.6251\n",
      "Epoch 6: val_accuracy improved from 0.63908 to 0.64278, saving model to model_fold_4.h5\n",
      "339/339 [==============================] - 73s 215ms/step - loss: 0.9903 - accuracy: 0.6251 - val_loss: 0.9448 - val_accuracy: 0.6428\n",
      "Epoch 7/100\n",
      "339/339 [==============================] - ETA: 0s - loss: 0.9004 - accuracy: 0.6541\n",
      "Epoch 7: val_accuracy improved from 0.64278 to 0.68157, saving model to model_fold_4.h5\n",
      "339/339 [==============================] - 73s 215ms/step - loss: 0.9004 - accuracy: 0.6541 - val_loss: 0.8311 - val_accuracy: 0.6816\n",
      "Epoch 8/100\n",
      "339/339 [==============================] - ETA: 0s - loss: 0.8351 - accuracy: 0.6801\n",
      "Epoch 8: val_accuracy improved from 0.68157 to 0.69228, saving model to model_fold_4.h5\n",
      "339/339 [==============================] - 73s 215ms/step - loss: 0.8351 - accuracy: 0.6801 - val_loss: 0.8054 - val_accuracy: 0.6923\n",
      "Epoch 9/100\n",
      "339/339 [==============================] - ETA: 0s - loss: 0.7907 - accuracy: 0.6999\n",
      "Epoch 9: val_accuracy improved from 0.69228 to 0.71851, saving model to model_fold_4.h5\n",
      "339/339 [==============================] - 73s 214ms/step - loss: 0.7907 - accuracy: 0.6999 - val_loss: 0.7348 - val_accuracy: 0.7185\n",
      "Epoch 10/100\n",
      "339/339 [==============================] - ETA: 0s - loss: 0.7499 - accuracy: 0.7179\n",
      "Epoch 10: val_accuracy improved from 0.71851 to 0.75139, saving model to model_fold_4.h5\n",
      "339/339 [==============================] - 73s 215ms/step - loss: 0.7499 - accuracy: 0.7179 - val_loss: 0.6635 - val_accuracy: 0.7514\n",
      "Epoch 11/100\n",
      "339/339 [==============================] - ETA: 0s - loss: 0.7037 - accuracy: 0.7349\n",
      "Epoch 11: val_accuracy improved from 0.75139 to 0.76284, saving model to model_fold_4.h5\n",
      "339/339 [==============================] - 73s 215ms/step - loss: 0.7037 - accuracy: 0.7349 - val_loss: 0.6241 - val_accuracy: 0.7628\n",
      "Epoch 12/100\n",
      "339/339 [==============================] - ETA: 0s - loss: 0.6546 - accuracy: 0.7473\n",
      "Epoch 12: val_accuracy did not improve from 0.76284\n",
      "339/339 [==============================] - 73s 214ms/step - loss: 0.6546 - accuracy: 0.7473 - val_loss: 0.6429 - val_accuracy: 0.7621\n",
      "Epoch 13/100\n",
      "339/339 [==============================] - ETA: 0s - loss: 0.6193 - accuracy: 0.7723\n",
      "Epoch 13: val_accuracy improved from 0.76284 to 0.76801, saving model to model_fold_4.h5\n",
      "339/339 [==============================] - 73s 214ms/step - loss: 0.6193 - accuracy: 0.7723 - val_loss: 0.6298 - val_accuracy: 0.7680\n",
      "Epoch 14/100\n",
      "339/339 [==============================] - ETA: 0s - loss: 0.6018 - accuracy: 0.7764\n",
      "Epoch 14: val_accuracy improved from 0.76801 to 0.78759, saving model to model_fold_4.h5\n",
      "339/339 [==============================] - 73s 215ms/step - loss: 0.6018 - accuracy: 0.7764 - val_loss: 0.5800 - val_accuracy: 0.7876\n",
      "Epoch 15/100\n",
      "339/339 [==============================] - ETA: 0s - loss: 0.5569 - accuracy: 0.7967\n",
      "Epoch 15: val_accuracy improved from 0.78759 to 0.81455, saving model to model_fold_4.h5\n",
      "339/339 [==============================] - 73s 214ms/step - loss: 0.5569 - accuracy: 0.7967 - val_loss: 0.5361 - val_accuracy: 0.8146\n",
      "Epoch 16/100\n",
      "339/339 [==============================] - ETA: 0s - loss: 0.5555 - accuracy: 0.8038\n",
      "Epoch 16: val_accuracy did not improve from 0.81455\n",
      "339/339 [==============================] - 73s 214ms/step - loss: 0.5555 - accuracy: 0.8038 - val_loss: 0.5091 - val_accuracy: 0.8134\n",
      "Epoch 17/100\n",
      "339/339 [==============================] - ETA: 0s - loss: 0.5124 - accuracy: 0.8157\n",
      "Epoch 17: val_accuracy did not improve from 0.81455\n",
      "339/339 [==============================] - 75s 220ms/step - loss: 0.5124 - accuracy: 0.8157 - val_loss: 0.5213 - val_accuracy: 0.8109\n",
      "Epoch 18/100\n",
      "339/339 [==============================] - ETA: 0s - loss: 0.4756 - accuracy: 0.8293\n",
      "Epoch 18: val_accuracy did not improve from 0.81455\n",
      "339/339 [==============================] - 72s 213ms/step - loss: 0.4756 - accuracy: 0.8293 - val_loss: 0.5691 - val_accuracy: 0.7983\n",
      "Epoch 19/100\n",
      "339/339 [==============================] - ETA: 0s - loss: 0.4574 - accuracy: 0.8345\n",
      "Epoch 19: val_accuracy improved from 0.81455 to 0.83007, saving model to model_fold_4.h5\n",
      "339/339 [==============================] - 73s 214ms/step - loss: 0.4574 - accuracy: 0.8345 - val_loss: 0.4934 - val_accuracy: 0.8301\n",
      "Epoch 20/100\n",
      "339/339 [==============================] - ETA: 0s - loss: 0.4294 - accuracy: 0.8462\n",
      "Epoch 20: val_accuracy did not improve from 0.83007\n",
      "339/339 [==============================] - 72s 214ms/step - loss: 0.4294 - accuracy: 0.8462 - val_loss: 0.6422 - val_accuracy: 0.7868\n",
      "Epoch 21/100\n",
      "339/339 [==============================] - ETA: 0s - loss: 0.4198 - accuracy: 0.8525\n",
      "Epoch 21: val_accuracy improved from 0.83007 to 0.85556, saving model to model_fold_4.h5\n",
      "339/339 [==============================] - 73s 215ms/step - loss: 0.4198 - accuracy: 0.8525 - val_loss: 0.4160 - val_accuracy: 0.8556\n",
      "Epoch 22/100\n",
      "339/339 [==============================] - ETA: 0s - loss: 0.3935 - accuracy: 0.8611\n",
      "Epoch 22: val_accuracy did not improve from 0.85556\n",
      "339/339 [==============================] - 73s 215ms/step - loss: 0.3935 - accuracy: 0.8611 - val_loss: 0.5008 - val_accuracy: 0.8279\n",
      "Epoch 23/100\n",
      "339/339 [==============================] - ETA: 0s - loss: 0.3654 - accuracy: 0.8710\n",
      "Epoch 23: val_accuracy improved from 0.85556 to 0.85667, saving model to model_fold_4.h5\n",
      "339/339 [==============================] - 73s 215ms/step - loss: 0.3654 - accuracy: 0.8710 - val_loss: 0.4438 - val_accuracy: 0.8567\n",
      "Epoch 24/100\n",
      "339/339 [==============================] - ETA: 0s - loss: 0.3635 - accuracy: 0.8686\n",
      "Epoch 24: val_accuracy did not improve from 0.85667\n",
      "339/339 [==============================] - 73s 216ms/step - loss: 0.3635 - accuracy: 0.8686 - val_loss: 0.4158 - val_accuracy: 0.8511\n",
      "Epoch 25/100\n",
      "339/339 [==============================] - ETA: 0s - loss: 0.3401 - accuracy: 0.8778\n",
      "Epoch 25: val_accuracy improved from 0.85667 to 0.86553, saving model to model_fold_4.h5\n",
      "339/339 [==============================] - 73s 216ms/step - loss: 0.3401 - accuracy: 0.8778 - val_loss: 0.3993 - val_accuracy: 0.8655\n",
      "Epoch 26/100\n",
      "339/339 [==============================] - ETA: 0s - loss: 0.3193 - accuracy: 0.8877\n",
      "Epoch 26: val_accuracy did not improve from 0.86553\n",
      "339/339 [==============================] - 73s 215ms/step - loss: 0.3193 - accuracy: 0.8877 - val_loss: 0.4213 - val_accuracy: 0.8648\n",
      "Epoch 27/100\n",
      "339/339 [==============================] - ETA: 0s - loss: 0.3078 - accuracy: 0.8910\n",
      "Epoch 27: val_accuracy improved from 0.86553 to 0.88474, saving model to model_fold_4.h5\n",
      "339/339 [==============================] - 73s 214ms/step - loss: 0.3078 - accuracy: 0.8910 - val_loss: 0.3562 - val_accuracy: 0.8847\n",
      "Epoch 28/100\n",
      "339/339 [==============================] - ETA: 0s - loss: 0.3016 - accuracy: 0.8969\n",
      "Epoch 28: val_accuracy did not improve from 0.88474\n",
      "339/339 [==============================] - 73s 215ms/step - loss: 0.3016 - accuracy: 0.8969 - val_loss: 0.5152 - val_accuracy: 0.8600\n",
      "Epoch 29/100\n",
      "339/339 [==============================] - ETA: 0s - loss: 0.2835 - accuracy: 0.9039\n",
      "Epoch 29: val_accuracy did not improve from 0.88474\n",
      "339/339 [==============================] - 73s 215ms/step - loss: 0.2835 - accuracy: 0.9039 - val_loss: 0.4368 - val_accuracy: 0.8548\n",
      "Epoch 30/100\n",
      "339/339 [==============================] - ETA: 0s - loss: 0.2880 - accuracy: 0.9004\n",
      "Epoch 30: val_accuracy did not improve from 0.88474\n",
      "339/339 [==============================] - 73s 215ms/step - loss: 0.2880 - accuracy: 0.9004 - val_loss: 0.5131 - val_accuracy: 0.8412\n",
      "Epoch 31/100\n",
      "339/339 [==============================] - ETA: 0s - loss: 0.2703 - accuracy: 0.9066\n",
      "Epoch 31: val_accuracy improved from 0.88474 to 0.90100, saving model to model_fold_4.h5\n",
      "339/339 [==============================] - 73s 214ms/step - loss: 0.2703 - accuracy: 0.9066 - val_loss: 0.3152 - val_accuracy: 0.9010\n",
      "Epoch 32/100\n",
      "339/339 [==============================] - ETA: 0s - loss: 0.2699 - accuracy: 0.9067\n",
      "Epoch 32: val_accuracy did not improve from 0.90100\n",
      "339/339 [==============================] - 73s 214ms/step - loss: 0.2699 - accuracy: 0.9067 - val_loss: 0.3241 - val_accuracy: 0.8943\n",
      "Epoch 33/100\n",
      "339/339 [==============================] - ETA: 0s - loss: 0.2491 - accuracy: 0.9130\n",
      "Epoch 33: val_accuracy did not improve from 0.90100\n",
      "339/339 [==============================] - 73s 215ms/step - loss: 0.2491 - accuracy: 0.9130 - val_loss: 0.3291 - val_accuracy: 0.8995\n",
      "Epoch 34/100\n",
      "339/339 [==============================] - ETA: 0s - loss: 0.2392 - accuracy: 0.9186\n",
      "Epoch 34: val_accuracy did not improve from 0.90100\n",
      "339/339 [==============================] - 73s 214ms/step - loss: 0.2392 - accuracy: 0.9186 - val_loss: 0.4154 - val_accuracy: 0.8692\n",
      "Epoch 35/100\n",
      "339/339 [==============================] - ETA: 0s - loss: 0.2460 - accuracy: 0.9143\n",
      "Epoch 35: val_accuracy did not improve from 0.90100\n",
      "339/339 [==============================] - 73s 214ms/step - loss: 0.2460 - accuracy: 0.9143 - val_loss: 0.3573 - val_accuracy: 0.8955\n",
      "Epoch 36/100\n",
      "339/339 [==============================] - ETA: 0s - loss: 0.2288 - accuracy: 0.9203\n",
      "Epoch 36: val_accuracy did not improve from 0.90100\n",
      "339/339 [==============================] - 73s 214ms/step - loss: 0.2288 - accuracy: 0.9203 - val_loss: 0.4565 - val_accuracy: 0.8681\n",
      "85/85 [==============================] - 2s 27ms/step - loss: 0.3152 - accuracy: 0.9010\n",
      "Score for fold 4: loss of 0.3152238726615906; accuracy of 90.09974002838135%\n",
      "Fold 5\n",
      "Found 10829 validated image filenames belonging to 8 classes.\n",
      "Found 2707 validated image filenames belonging to 8 classes.\n",
      "Epoch 1/100\n",
      "339/339 [==============================] - ETA: 0s - loss: 1.8780 - accuracy: 0.2249\n",
      "Epoch 1: val_accuracy improved from -inf to 0.32434, saving model to model_fold_5.h5\n",
      "339/339 [==============================] - 74s 217ms/step - loss: 1.8780 - accuracy: 0.2249 - val_loss: 1.6932 - val_accuracy: 0.3243\n",
      "Epoch 2/100\n",
      "339/339 [==============================] - ETA: 0s - loss: 1.6255 - accuracy: 0.3576\n",
      "Epoch 2: val_accuracy improved from 0.32434 to 0.43480, saving model to model_fold_5.h5\n",
      "339/339 [==============================] - 73s 216ms/step - loss: 1.6255 - accuracy: 0.3576 - val_loss: 1.4297 - val_accuracy: 0.4348\n",
      "Epoch 3/100\n",
      "339/339 [==============================] - ETA: 0s - loss: 1.4288 - accuracy: 0.4439\n",
      "Epoch 3: val_accuracy improved from 0.43480 to 0.51164, saving model to model_fold_5.h5\n",
      "339/339 [==============================] - 73s 216ms/step - loss: 1.4288 - accuracy: 0.4439 - val_loss: 1.2750 - val_accuracy: 0.5116\n",
      "Epoch 4/100\n",
      "339/339 [==============================] - ETA: 0s - loss: 1.2705 - accuracy: 0.5010\n",
      "Epoch 4: val_accuracy improved from 0.51164 to 0.56077, saving model to model_fold_5.h5\n",
      "339/339 [==============================] - 73s 216ms/step - loss: 1.2705 - accuracy: 0.5010 - val_loss: 1.1539 - val_accuracy: 0.5608\n",
      "Epoch 5/100\n",
      "339/339 [==============================] - ETA: 0s - loss: 1.1479 - accuracy: 0.5585\n",
      "Epoch 5: val_accuracy improved from 0.56077 to 0.58847, saving model to model_fold_5.h5\n",
      "339/339 [==============================] - 73s 216ms/step - loss: 1.1479 - accuracy: 0.5585 - val_loss: 1.1062 - val_accuracy: 0.5885\n",
      "Epoch 6/100\n",
      "339/339 [==============================] - ETA: 0s - loss: 1.0518 - accuracy: 0.6055\n",
      "Epoch 6: val_accuracy improved from 0.58847 to 0.64241, saving model to model_fold_5.h5\n",
      "339/339 [==============================] - 73s 216ms/step - loss: 1.0518 - accuracy: 0.6055 - val_loss: 0.9498 - val_accuracy: 0.6424\n",
      "Epoch 7/100\n",
      "339/339 [==============================] - ETA: 0s - loss: 0.9819 - accuracy: 0.6300\n",
      "Epoch 7: val_accuracy did not improve from 0.64241\n",
      "339/339 [==============================] - 73s 216ms/step - loss: 0.9819 - accuracy: 0.6300 - val_loss: 0.9182 - val_accuracy: 0.6395\n",
      "Epoch 8/100\n",
      "339/339 [==============================] - ETA: 0s - loss: 0.9132 - accuracy: 0.6552\n",
      "Epoch 8: val_accuracy improved from 0.64241 to 0.67713, saving model to model_fold_5.h5\n",
      "339/339 [==============================] - 73s 216ms/step - loss: 0.9132 - accuracy: 0.6552 - val_loss: 0.8449 - val_accuracy: 0.6771\n",
      "Epoch 9/100\n",
      "339/339 [==============================] - ETA: 0s - loss: 0.8486 - accuracy: 0.6825\n",
      "Epoch 9: val_accuracy improved from 0.67713 to 0.69043, saving model to model_fold_5.h5\n",
      "339/339 [==============================] - 73s 215ms/step - loss: 0.8486 - accuracy: 0.6825 - val_loss: 0.8044 - val_accuracy: 0.6904\n",
      "Epoch 10/100\n",
      "339/339 [==============================] - ETA: 0s - loss: 0.7984 - accuracy: 0.6995\n",
      "Epoch 10: val_accuracy improved from 0.69043 to 0.69671, saving model to model_fold_5.h5\n",
      "339/339 [==============================] - 73s 216ms/step - loss: 0.7984 - accuracy: 0.6995 - val_loss: 0.7980 - val_accuracy: 0.6967\n",
      "Epoch 11/100\n",
      "339/339 [==============================] - ETA: 0s - loss: 0.7608 - accuracy: 0.7205\n",
      "Epoch 11: val_accuracy improved from 0.69671 to 0.71481, saving model to model_fold_5.h5\n",
      "339/339 [==============================] - 73s 215ms/step - loss: 0.7608 - accuracy: 0.7205 - val_loss: 0.8018 - val_accuracy: 0.7148\n",
      "Epoch 12/100\n",
      "339/339 [==============================] - ETA: 0s - loss: 0.7211 - accuracy: 0.7321\n",
      "Epoch 12: val_accuracy improved from 0.71481 to 0.71740, saving model to model_fold_5.h5\n",
      "339/339 [==============================] - 73s 215ms/step - loss: 0.7211 - accuracy: 0.7321 - val_loss: 0.7883 - val_accuracy: 0.7174\n",
      "Epoch 13/100\n",
      "339/339 [==============================] - ETA: 0s - loss: 0.6871 - accuracy: 0.7447\n",
      "Epoch 13: val_accuracy improved from 0.71740 to 0.74658, saving model to model_fold_5.h5\n",
      "339/339 [==============================] - 73s 216ms/step - loss: 0.6871 - accuracy: 0.7447 - val_loss: 0.6786 - val_accuracy: 0.7466\n",
      "Epoch 14/100\n",
      "339/339 [==============================] - ETA: 0s - loss: 0.6554 - accuracy: 0.7534\n",
      "Epoch 14: val_accuracy improved from 0.74658 to 0.75545, saving model to model_fold_5.h5\n",
      "339/339 [==============================] - 74s 217ms/step - loss: 0.6554 - accuracy: 0.7534 - val_loss: 0.6466 - val_accuracy: 0.7554\n",
      "Epoch 15/100\n",
      "339/339 [==============================] - ETA: 0s - loss: 0.6146 - accuracy: 0.7704\n",
      "Epoch 15: val_accuracy did not improve from 0.75545\n",
      "339/339 [==============================] - 74s 217ms/step - loss: 0.6146 - accuracy: 0.7704 - val_loss: 0.8546 - val_accuracy: 0.7185\n",
      "Epoch 16/100\n",
      "339/339 [==============================] - ETA: 0s - loss: 0.6159 - accuracy: 0.7723\n",
      "Epoch 16: val_accuracy did not improve from 0.75545\n",
      "339/339 [==============================] - 73s 216ms/step - loss: 0.6159 - accuracy: 0.7723 - val_loss: 0.7048 - val_accuracy: 0.7366\n",
      "Epoch 17/100\n",
      "339/339 [==============================] - ETA: 0s - loss: 0.5652 - accuracy: 0.7942\n",
      "Epoch 17: val_accuracy improved from 0.75545 to 0.78685, saving model to model_fold_5.h5\n",
      "339/339 [==============================] - 73s 215ms/step - loss: 0.5652 - accuracy: 0.7942 - val_loss: 0.6110 - val_accuracy: 0.7868\n",
      "Epoch 18/100\n",
      "339/339 [==============================] - ETA: 0s - loss: 0.5219 - accuracy: 0.8124\n",
      "Epoch 18: val_accuracy improved from 0.78685 to 0.80421, saving model to model_fold_5.h5\n",
      "339/339 [==============================] - 73s 216ms/step - loss: 0.5219 - accuracy: 0.8124 - val_loss: 0.5419 - val_accuracy: 0.8042\n",
      "Epoch 19/100\n",
      "339/339 [==============================] - ETA: 0s - loss: 0.4968 - accuracy: 0.8235\n",
      "Epoch 19: val_accuracy did not improve from 0.80421\n",
      "339/339 [==============================] - 73s 216ms/step - loss: 0.4968 - accuracy: 0.8235 - val_loss: 0.8004 - val_accuracy: 0.7440\n",
      "Epoch 20/100\n",
      "339/339 [==============================] - ETA: 0s - loss: 0.4676 - accuracy: 0.8289\n",
      "Epoch 20: val_accuracy did not improve from 0.80421\n",
      "339/339 [==============================] - 73s 216ms/step - loss: 0.4676 - accuracy: 0.8289 - val_loss: 0.6148 - val_accuracy: 0.7776\n",
      "Epoch 21/100\n",
      "339/339 [==============================] - ETA: 0s - loss: 0.4563 - accuracy: 0.8357\n",
      "Epoch 21: val_accuracy improved from 0.80421 to 0.84337, saving model to model_fold_5.h5\n",
      "339/339 [==============================] - 73s 216ms/step - loss: 0.4563 - accuracy: 0.8357 - val_loss: 0.4418 - val_accuracy: 0.8434\n",
      "Epoch 22/100\n",
      "339/339 [==============================] - ETA: 0s - loss: 0.4386 - accuracy: 0.8461\n",
      "Epoch 22: val_accuracy did not improve from 0.84337\n",
      "339/339 [==============================] - 73s 216ms/step - loss: 0.4386 - accuracy: 0.8461 - val_loss: 0.4908 - val_accuracy: 0.8297\n",
      "Epoch 23/100\n",
      "339/339 [==============================] - ETA: 0s - loss: 0.4271 - accuracy: 0.8489\n",
      "Epoch 23: val_accuracy did not improve from 0.84337\n",
      "339/339 [==============================] - 73s 216ms/step - loss: 0.4271 - accuracy: 0.8489 - val_loss: 0.5008 - val_accuracy: 0.8271\n",
      "Epoch 24/100\n",
      "339/339 [==============================] - ETA: 0s - loss: 0.3921 - accuracy: 0.8607\n",
      "Epoch 24: val_accuracy did not improve from 0.84337\n",
      "339/339 [==============================] - 74s 217ms/step - loss: 0.3921 - accuracy: 0.8607 - val_loss: 0.5389 - val_accuracy: 0.8267\n",
      "Epoch 25/100\n",
      "339/339 [==============================] - ETA: 0s - loss: 0.3707 - accuracy: 0.8662\n",
      "Epoch 25: val_accuracy did not improve from 0.84337\n",
      "339/339 [==============================] - 74s 217ms/step - loss: 0.3707 - accuracy: 0.8662 - val_loss: 0.4725 - val_accuracy: 0.8319\n",
      "Epoch 26/100\n",
      "339/339 [==============================] - ETA: 0s - loss: 0.3586 - accuracy: 0.8759\n",
      "Epoch 26: val_accuracy did not improve from 0.84337\n",
      "339/339 [==============================] - 73s 216ms/step - loss: 0.3586 - accuracy: 0.8759 - val_loss: 0.4699 - val_accuracy: 0.8408\n",
      "85/85 [==============================] - 3s 28ms/step - loss: 0.4418 - accuracy: 0.8434\n",
      "Score for fold 5: loss of 0.44177788496017456; accuracy of 84.33690667152405%\n"
     ]
    }
   ],
   "source": [
    "kf = KFold(n_splits=5, shuffle=True)\n",
    "fold_no = 1\n",
    "all_train_histories = []\n",
    "\n",
    "for train_index, val_index in kf.split(train_val_df):\n",
    "    print(f'Fold {fold_no}')\n",
    "\n",
    "    train_df = train_val_df.iloc[train_index]\n",
    "    validation_df = train_val_df.iloc[val_index]\n",
    "\n",
    "    train_generator = train_datagen.flow_from_dataframe(\n",
    "        train_df,\n",
    "        x_col='filename',\n",
    "        y_col='class',\n",
    "        target_size=(IMAGE_WIDTH, IMAGE_HEIGHT),\n",
    "        batch_size=BATCH_SIZE,\n",
    "        class_mode='categorical'\n",
    "    )\n",
    "\n",
    "    validation_generator = validation_datagen.flow_from_dataframe(\n",
    "        validation_df,\n",
    "        x_col='filename',\n",
    "        y_col='class',\n",
    "        target_size=(IMAGE_WIDTH, IMAGE_HEIGHT),\n",
    "        batch_size=BATCH_SIZE,\n",
    "        class_mode='categorical'\n",
    "    )\n",
    "\n",
    "    model = Sequential([\n",
    "      InputLayer(input_shape=(IMAGE_WIDTH, IMAGE_HEIGHT,3)),\n",
    "      Conv2D(16, (3, 3), activation='relu'),\n",
    "      Conv2D(16, (3, 3), activation='relu'),\n",
    "      MaxPooling2D((2, 2), strides=2),\n",
    "      Conv2D(32, (3, 3), activation='relu'),\n",
    "      Conv2D(32, (3, 3), activation='relu'),\n",
    "      MaxPooling2D((2, 2), strides=2),\n",
    "      Conv2D(64, (3, 3), activation='relu'),\n",
    "      Conv2D(64, (3, 3), activation='relu'),\n",
    "      Conv2D(64, (3, 3), activation='relu'),\n",
    "      MaxPooling2D((2, 2), strides=2),\n",
    "      Conv2D(128, (3, 3), activation='relu'),\n",
    "      Conv2D(128, (3, 3), activation='relu'),\n",
    "      Conv2D(128, (3, 3), activation='relu'),\n",
    "      GlobalAveragePooling2D(),\n",
    "      Dense(128, activation='relu'),\n",
    "      Dropout(0.2),\n",
    "      Dense(NUM_CLASSES, activation='softmax')\n",
    "  ])\n",
    "\n",
    "    model.compile(optimizer=Adam(), loss='categorical_crossentropy', metrics=['accuracy'])\n",
    "\n",
    "    checkpoint_path = f'model_fold_{fold_no}.h5'\n",
    "    checkpoint = ModelCheckpoint(\n",
    "        checkpoint_path,\n",
    "        monitor='val_accuracy',\n",
    "        save_best_only=True,\n",
    "        mode='max',\n",
    "        verbose=1\n",
    "    )\n",
    "\n",
    "    early_stopping = EarlyStopping(\n",
    "        monitor='val_accuracy',\n",
    "        patience=5,\n",
    "        restore_best_weights=True\n",
    "    )\n",
    "\n",
    "    history = model.fit(\n",
    "        train_generator,\n",
    "        epochs=EPOCHS,\n",
    "        validation_data=validation_generator,\n",
    "        callbacks=[checkpoint, early_stopping]\n",
    "    )\n",
    "\n",
    "    all_train_histories.append(history.history)\n",
    "\n",
    "    best_model = load_model(checkpoint_path)\n",
    "\n",
    "    scores = best_model.evaluate(validation_generator)\n",
    "    print(f'Score for fold {fold_no}: {best_model.metrics_names[0]} of {scores[0]}; {best_model.metrics_names[1]} of {scores[1]*100}%')\n",
    "\n",
    "    fold_no += 1"
   ]
  },
  {
   "cell_type": "code",
   "execution_count": 14,
   "metadata": {
    "colab": {
     "base_uri": "https://localhost:8080/",
     "height": 1000
    },
    "executionInfo": {
     "elapsed": 1389,
     "status": "ok",
     "timestamp": 1716613488373,
     "user": {
      "displayName": "Venus Waikhom",
      "userId": "06545940090851381132"
     },
     "user_tz": -330
    },
    "id": "MPCImZDugRkN",
    "outputId": "d7410b43-5295-4b5b-c273-cc89674cfae3"
   },
   "outputs": [
    {
     "name": "stdout",
     "output_type": "stream",
     "text": [
      "Model: \"sequential_4\"\n",
      "_________________________________________________________________\n",
      " Layer (type)                Output Shape              Param #   \n",
      "=================================================================\n",
      " conv2d_40 (Conv2D)          (None, 254, 254, 16)      448       \n",
      "                                                                 \n",
      " conv2d_41 (Conv2D)          (None, 252, 252, 16)      2320      \n",
      "                                                                 \n",
      " max_pooling2d_12 (MaxPoolin  (None, 126, 126, 16)     0         \n",
      " g2D)                                                            \n",
      "                                                                 \n",
      " conv2d_42 (Conv2D)          (None, 124, 124, 32)      4640      \n",
      "                                                                 \n",
      " conv2d_43 (Conv2D)          (None, 122, 122, 32)      9248      \n",
      "                                                                 \n",
      " max_pooling2d_13 (MaxPoolin  (None, 61, 61, 32)       0         \n",
      " g2D)                                                            \n",
      "                                                                 \n",
      " conv2d_44 (Conv2D)          (None, 59, 59, 64)        18496     \n",
      "                                                                 \n",
      " conv2d_45 (Conv2D)          (None, 57, 57, 64)        36928     \n",
      "                                                                 \n",
      " conv2d_46 (Conv2D)          (None, 55, 55, 64)        36928     \n",
      "                                                                 \n",
      " max_pooling2d_14 (MaxPoolin  (None, 27, 27, 64)       0         \n",
      " g2D)                                                            \n",
      "                                                                 \n",
      " conv2d_47 (Conv2D)          (None, 25, 25, 128)       73856     \n",
      "                                                                 \n",
      " conv2d_48 (Conv2D)          (None, 23, 23, 128)       147584    \n",
      "                                                                 \n",
      " conv2d_49 (Conv2D)          (None, 21, 21, 128)       147584    \n",
      "                                                                 \n",
      " global_average_pooling2d_4   (None, 128)              0         \n",
      " (GlobalAveragePooling2D)                                        \n",
      "                                                                 \n",
      " dense_8 (Dense)             (None, 128)               16512     \n",
      "                                                                 \n",
      " dropout_4 (Dropout)         (None, 128)               0         \n",
      "                                                                 \n",
      " dense_9 (Dense)             (None, 8)                 1032      \n",
      "                                                                 \n",
      "=================================================================\n",
      "Total params: 495,576\n",
      "Trainable params: 495,576\n",
      "Non-trainable params: 0\n",
      "_________________________________________________________________\n"
     ]
    },
    {
     "data": {
      "image/png": "[encoded data removed]",
      "text/plain": [
       "<IPython.core.display.Image object>"
      ]
     },
     "execution_count": 14,
     "metadata": {},
     "output_type": "execute_result"
    }
   ],
   "source": [
    "model.summary()\n",
    "\n",
    "model_summary_file = f'model_summary.txt'\n",
    "with open(model_summary_file, 'w') as f:\n",
    "    model.summary(print_fn=lambda x: f.write(x + '\\n'))\n",
    "\n",
    "dot_model = model_to_dot(model, show_shapes=True, show_layer_names=True)\n",
    "\n",
    "dot_model.write_png(f\"model_summary.png\")\n",
    "\n",
    "Image(f\"model_summary.png\")"
   ]
  },
  {
   "cell_type": "code",
   "execution_count": 15,
   "metadata": {
    "executionInfo": {
     "elapsed": 3,
     "status": "ok",
     "timestamp": 1716612867752,
     "user": {
      "displayName": "Venus Waikhom",
      "userId": "06545940090851381132"
     },
     "user_tz": -330
    },
    "id": "4rg5286yiCJM"
   },
   "outputs": [],
   "source": [
    "def plot_history(history, fold_no):\n",
    "    plt.figure(figsize=(12, 4))\n",
    "    \n",
    "    # Plot accuracy\n",
    "    plt.subplot(1, 2, 1)\n",
    "    plt.plot(history['accuracy'])\n",
    "    plt.plot(history['val_accuracy'])\n",
    "    plt.title(f'Model accuracy for fold {fold_no}')\n",
    "    plt.ylabel('Accuracy')\n",
    "    plt.xlabel('Epoch')\n",
    "    plt.legend(['Train', 'Validation'], loc='upper left')\n",
    "    plt.savefig(f'accuracy_fold_{fold_no}.png')\n",
    "    \n",
    "    # Plot loss\n",
    "    plt.subplot(1, 2, 2)\n",
    "    plt.plot(history['loss'])\n",
    "    plt.plot(history['val_loss'])\n",
    "    plt.title(f'Model loss for fold {fold_no}')\n",
    "    plt.ylabel('Loss')\n",
    "    plt.xlabel('Epoch')\n",
    "    plt.legend(['Train', 'Validation'], loc='upper left')\n",
    "    plt.savefig(f'loss_fold_{fold_no}.png')\n",
    "    \n",
    "    plt.show()\n",
    "    plt.close()"
   ]
  },
  {
   "cell_type": "code",
   "execution_count": 16,
   "metadata": {
    "colab": {
     "base_uri": "https://localhost:8080/",
     "height": 803
    },
    "executionInfo": {
     "elapsed": 2090,
     "status": "ok",
     "timestamp": 1716612869839,
     "user": {
      "displayName": "Venus Waikhom",
      "userId": "06545940090851381132"
     },
     "user_tz": -330
    },
    "id": "-Fqit8u3i5G0",
    "outputId": "1038aafb-271a-4c01-9833-0eb780b62c87"
   },
   "outputs": [
    {
     "ename": "TypeError",
     "evalue": "'module' object is not callable",
     "output_type": "error",
     "traceback": [
      "\u001b[1;31m---------------------------------------------------------------------------\u001b[0m",
      "\u001b[1;31mTypeError\u001b[0m                                 Traceback (most recent call last)",
      "Cell \u001b[1;32mIn[16], line 2\u001b[0m\n\u001b[0;32m      1\u001b[0m \u001b[38;5;28;01mfor\u001b[39;00m i, history \u001b[38;5;129;01min\u001b[39;00m \u001b[38;5;28menumerate\u001b[39m(all_train_histories):\n\u001b[1;32m----> 2\u001b[0m     \u001b[43mplot_history\u001b[49m\u001b[43m(\u001b[49m\u001b[43mhistory\u001b[49m\u001b[43m,\u001b[49m\u001b[43m \u001b[49m\u001b[43mi\u001b[49m\u001b[38;5;241;43m+\u001b[39;49m\u001b[38;5;241;43m1\u001b[39;49m\u001b[43m)\u001b[49m\n",
      "Cell \u001b[1;32mIn[15], line 2\u001b[0m, in \u001b[0;36mplot_history\u001b[1;34m(history, fold_no)\u001b[0m\n\u001b[0;32m      1\u001b[0m \u001b[38;5;28;01mdef\u001b[39;00m \u001b[38;5;21mplot_history\u001b[39m(history, fold_no):\n\u001b[1;32m----> 2\u001b[0m     \u001b[43mplt\u001b[49m\u001b[38;5;241;43m.\u001b[39;49m\u001b[43mfigure\u001b[49m\u001b[43m(\u001b[49m\u001b[43mfigsize\u001b[49m\u001b[38;5;241;43m=\u001b[39;49m\u001b[43m(\u001b[49m\u001b[38;5;241;43m12\u001b[39;49m\u001b[43m,\u001b[49m\u001b[43m \u001b[49m\u001b[38;5;241;43m4\u001b[39;49m\u001b[43m)\u001b[49m\u001b[43m)\u001b[49m\n\u001b[0;32m      4\u001b[0m     plt\u001b[38;5;241m.\u001b[39msubplot(\u001b[38;5;241m1\u001b[39m, \u001b[38;5;241m2\u001b[39m, \u001b[38;5;241m1\u001b[39m)\n\u001b[0;32m      5\u001b[0m     plt\u001b[38;5;241m.\u001b[39mplot(history[\u001b[38;5;124m'\u001b[39m\u001b[38;5;124maccuracy\u001b[39m\u001b[38;5;124m'\u001b[39m])\n",
      "\u001b[1;31mTypeError\u001b[0m: 'module' object is not callable"
     ]
    }
   ],
   "source": [
    "for i, history in enumerate(all_train_histories):\n",
    "    plot_history(history, i+1)"
   ]
  },
  {
   "cell_type": "code",
   "execution_count": null,
   "metadata": {
    "colab": {
     "base_uri": "https://localhost:8080/"
    },
    "executionInfo": {
     "elapsed": 38838,
     "status": "ok",
     "timestamp": 1716613139634,
     "user": {
      "displayName": "Venus Waikhom",
      "userId": "06545940090851381132"
     },
     "user_tz": -330
    },
    "id": "7tjBWBJ5-6bB",
    "outputId": "1922a8ca-6405-455a-988b-00a96c14078f"
   },
   "outputs": [],
   "source": [
    "best_val_accuracy = 0.0\n",
    "best_model_path = None\n",
    "total_val_accuracy = 0.0\n",
    "\n",
    "Fold_No = 1\n",
    "\n",
    "for Fold_No in range(K):\n",
    "    checkpoint_path = f'model_fold_{Fold_No}.h5'\n",
    "    model = load_model(checkpoint_path)\n",
    "\n",
    "    validation_generator = validation_datagen.flow_from_dataframe(\n",
    "        validation_df,\n",
    "        x_col='filename',\n",
    "        y_col='class',\n",
    "        target_size=(IMAGE_WIDTH, IMAGE_HEIGHT),\n",
    "        batch_size=BATCH_SIZE,\n",
    "        class_mode='categorical',\n",
    "        shuffle=False\n",
    "    )\n",
    "\n",
    "    scores = model.evaluate(validation_generator)\n",
    "    val_accuracy = scores[1]\n",
    "    total_val_accuracy += val_accuracy\n",
    "\n",
    "    if val_accuracy > best_val_accuracy:\n",
    "        best_val_accuracy = val_accuracy\n",
    "        best_model_path = checkpoint_path\n",
    "\n",
    "print(f'Best validation accuracy: {best_val_accuracy}')\n",
    "average_val_accuracy = total_val_accuracy / K\n",
    "print(f'Average validation accuracy: {average_val_accuracy}')\n",
    "\n",
    "best_model.save(\"Best_Model.h5\")\n",
    "\n",
    "best_model = load_model(\"Best_Model.h5\")"
   ]
  },
  {
   "cell_type": "code",
   "execution_count": null,
   "metadata": {
    "colab": {
     "base_uri": "https://localhost:8080/"
    },
    "executionInfo": {
     "elapsed": 10,
     "status": "ok",
     "timestamp": 1716613532213,
     "user": {
      "displayName": "Venus Waikhom",
      "userId": "06545940090851381132"
     },
     "user_tz": -330
    },
    "id": "Z5PLhhyZhT5Q",
    "outputId": "ba2d893c-615b-46d1-a131-73333095b570"
   },
   "outputs": [],
   "source": [
    "test_generator = validation_datagen.flow_from_dataframe(\n",
    "    test_df,\n",
    "    x_col='filename',\n",
    "    y_col='class',\n",
    "    target_size=(IMAGE_WIDTH, IMAGE_HEIGHT),\n",
    "    batch_size=BATCH_SIZE,\n",
    "    class_mode='categorical',\n",
    "    shuffle=False\n",
    ")"
   ]
  },
  {
   "cell_type": "code",
   "execution_count": null,
   "metadata": {
    "colab": {
     "base_uri": "https://localhost:8080/"
    },
    "executionInfo": {
     "elapsed": 3985,
     "status": "ok",
     "timestamp": 1716613536195,
     "user": {
      "displayName": "Venus Waikhom",
      "userId": "06545940090851381132"
     },
     "user_tz": -330
    },
    "id": "aHAMqyU_hVFN",
    "outputId": "e77d0d0b-7135-456c-e721-d986dd4f162f"
   },
   "outputs": [],
   "source": [
    "test_scores = best_model.evaluate(test_generator)\n",
    "print(f'Test set score: {best_model.metrics_names[0]} of {test_scores[0]}; {best_model.metrics_names[1]} of {test_scores[1]*100}%')\n"
   ]
  },
  {
   "cell_type": "markdown",
   "metadata": {
    "id": "HwfaF24wEtM-"
   },
   "source": [
    "### **CONFUSION MATRIX\n",
    "\n",
    "---"
   ]
  },
  {
   "cell_type": "code",
   "execution_count": null,
   "metadata": {
    "colab": {
     "base_uri": "https://localhost:8080/"
    },
    "executionInfo": {
     "elapsed": 5204,
     "status": "ok",
     "timestamp": 1716613541395,
     "user": {
      "displayName": "Venus Waikhom",
      "userId": "06545940090851381132"
     },
     "user_tz": -330
    },
    "id": "dpKuRA7Vi8iL",
    "outputId": "f7c0d93f-a8aa-42dd-818a-55afd0d38d42"
   },
   "outputs": [],
   "source": [
    "Y_pred = best_model.predict(test_generator)\n",
    "y_pred = np.argmax(Y_pred, axis=1)\n",
    "y_true = test_generator.classes"
   ]
  },
  {
   "cell_type": "code",
   "execution_count": null,
   "metadata": {
    "executionInfo": {
     "elapsed": 3,
     "status": "ok",
     "timestamp": 1716613542849,
     "user": {
      "displayName": "Venus Waikhom",
      "userId": "06545940090851381132"
     },
     "user_tz": -330
    },
    "id": "6_whBsOzi91f"
   },
   "outputs": [],
   "source": [
    "cm = confusion_matrix(y_true, y_pred)\n",
    "cm_df = pd.DataFrame(cm, index=test_generator.class_indices.keys(), columns=test_generator.class_indices.keys())"
   ]
  },
  {
   "cell_type": "code",
   "execution_count": null,
   "metadata": {
    "colab": {
     "base_uri": "https://localhost:8080/",
     "height": 718
    },
    "executionInfo": {
     "elapsed": 893,
     "status": "ok",
     "timestamp": 1716613545988,
     "user": {
      "displayName": "Venus Waikhom",
      "userId": "06545940090851381132"
     },
     "user_tz": -330
    },
    "id": "saXYahnmi_mM",
    "outputId": "2e02fab2-34ca-4066-bf89-3568ce3c7354"
   },
   "outputs": [],
   "source": [
    "plt.figure(figsize=(10, 8))\n",
    "sns.heatmap(cm_df, annot=True, fmt='d', cmap='Blues')\n",
    "plt.title('Confusion Matrix')\n",
    "plt.ylabel('True label')\n",
    "plt.xlabel('Predicted label')\n",
    "plt.savefig('confusion_matrix.png')\n"
   ]
  },
  {
   "cell_type": "code",
   "execution_count": null,
   "metadata": {
    "executionInfo": {
     "elapsed": 1,
     "status": "ok",
     "timestamp": 1716613549530,
     "user": {
      "displayName": "Venus Waikhom",
      "userId": "06545940090851381132"
     },
     "user_tz": -330
    },
    "id": "ie4cp7QdjBBC"
   },
   "outputs": [],
   "source": [
    "report = classification_report(y_true, y_pred, target_names=test_generator.class_indices.keys())\n",
    "with open('classification_report.txt', 'w') as f:\n",
    "    f.write(report)"
   ]
  },
  {
   "cell_type": "code",
   "execution_count": null,
   "metadata": {
    "colab": {
     "base_uri": "https://localhost:8080/"
    },
    "executionInfo": {
     "elapsed": 7,
     "status": "ok",
     "timestamp": 1716613550012,
     "user": {
      "displayName": "Venus Waikhom",
      "userId": "06545940090851381132"
     },
     "user_tz": -330
    },
    "id": "9NkCH_vojCif",
    "outputId": "951ea32c-4705-4cd5-cd21-4ac5ea922bd1"
   },
   "outputs": [],
   "source": [
    "print(report)"
   ]
  },
  {
   "cell_type": "markdown",
   "metadata": {
    "id": "9KQn6jIcEkBe"
   },
   "source": [
    "### **TESTING**\n",
    "\n",
    "---\n",
    "\n"
   ]
  },
  {
   "cell_type": "code",
   "execution_count": null,
   "metadata": {
    "colab": {
     "base_uri": "https://localhost:8080/",
     "height": 1000,
     "output_embedded_package_id": "1M-M8v-HvZ2T-zdop_tS-Yn-0SL9dVxrf"
    },
    "executionInfo": {
     "elapsed": 6915,
     "status": "ok",
     "timestamp": 1716613574335,
     "user": {
      "displayName": "Venus Waikhom",
      "userId": "06545940090851381132"
     },
     "user_tz": -330
    },
    "id": "dAGDXma66rVU",
    "outputId": "e726684d-0f39-47f1-fb8a-ef161f7ada78"
   },
   "outputs": [],
   "source": [
    "def load_and_preprocess_image(image_path):\n",
    "    image = tf.keras.preprocessing.image.load_img(image_path, target_size=(IMAGE_WIDTH, IMAGE_HEIGHT))\n",
    "    image = tf.keras.preprocessing.image.img_to_array(image)\n",
    "    image = image / 255.0\n",
    "    return np.expand_dims(image, axis=0)\n",
    "\n",
    "random_indices = random.sample(range(len(test_df)), 10)\n",
    "random_images = test_df.iloc[random_indices]\n",
    "\n",
    "results = pd.DataFrame(columns=['Image', 'Actual Class', 'Predicted Class', 'Prediction Score'])\n",
    "\n",
    "for idx, row in random_images.iterrows():\n",
    "    image_path = row['filename']\n",
    "    actual_class = row['class']\n",
    "\n",
    "    image = load_and_preprocess_image(image_path)\n",
    "    prediction = best_model.predict(image)\n",
    "    predicted_class_index = np.argmax(prediction, axis=1)[0]\n",
    "    predicted_class_name = class_labels[predicted_class_index]\n",
    "    prediction_score = prediction[0][predicted_class_index]\n",
    "\n",
    "    new_row = pd.DataFrame({\n",
    "        'Image': [image_path],\n",
    "        'Actual Class': [actual_class],\n",
    "        'Predicted Class': [predicted_class_name],\n",
    "        'Prediction Score': [prediction_score]\n",
    "    })\n",
    "    results = pd.concat([results, new_row], ignore_index=True)\n",
    "\n",
    "    plt.imshow(tf.keras.preprocessing.image.array_to_img(image[0]))\n",
    "    plt.title(f\"Actual: {actual_class}, Predicted: {predicted_class_name} (Score: {prediction_score:.4f})\")\n",
    "    plt.axis('off')\n",
    "    plt.show()\n",
    "\n",
    "print(results)"
   ]
  },
  {
   "cell_type": "code",
   "execution_count": null,
   "metadata": {},
   "outputs": [],
   "source": []
  }
 ],
 "metadata": {
  "accelerator": "GPU",
  "colab": {
   "gpuType": "T4",
   "provenance": []
  },
  "kernelspec": {
   "display_name": "Python 3 (ipykernel)",
   "language": "python",
   "name": "python3"
  },
  "language_info": {
   "codemirror_mode": {
    "name": "ipython",
    "version": 3
   },
   "file_extension": ".py",
   "mimetype": "text/x-python",
   "name": "python",
   "nbconvert_exporter": "python",
   "pygments_lexer": "ipython3",
   "version": "3.9.19"
  }
 },
 "nbformat": 4,
 "nbformat_minor": 4
}
